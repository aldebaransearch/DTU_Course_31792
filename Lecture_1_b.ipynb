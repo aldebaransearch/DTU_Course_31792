{
 "cells": [
  {
   "cell_type": "markdown",
   "metadata": {},
   "source": [
    "# Market Clearing Problem - Lecture 1\n",
    "## Two producers, two consumers and network topology"
   ]
  },
  {
   "cell_type": "markdown",
   "metadata": {},
   "source": [
    "### Imports"
   ]
  },
  {
   "cell_type": "code",
   "execution_count": 1,
   "metadata": {},
   "outputs": [],
   "source": [
    "import numpy as np\n",
    "from pyomo.environ import *"
   ]
  },
  {
   "cell_type": "markdown",
   "metadata": {},
   "source": [
    "### Defining the world"
   ]
  },
  {
   "cell_type": "code",
   "execution_count": 2,
   "metadata": {},
   "outputs": [],
   "source": [
    "# Define generators (Max output, offer price, bus location)\n",
    "generator_defs = ((100,12,1),\n",
    "                  (80,20,2))\n",
    "\n",
    "# Define demands (Max consumption, bid price, bus location)\n",
    "demand_defs = ((100,40,2),\n",
    "                (50,35,3))\n",
    "\n",
    "# Define Network\n",
    "capacity = np.array([[0,100,100],\n",
    "                     [100,0,100],\n",
    "                     [100,100,0]])\n",
    "\n",
    "susceptance = np.array([[0,500,500],\n",
    "                        [500,0,500],\n",
    "                        [500,500,0]])"
   ]
  },
  {
   "cell_type": "markdown",
   "metadata": {},
   "source": [
    "### Setting up optimization problem "
   ]
  },
  {
   "cell_type": "code",
   "execution_count": 3,
   "metadata": {},
   "outputs": [],
   "source": [
    "# Create model\n",
    "model = ConcreteModel()\n",
    "\n",
    "# Set up generator related objects\n",
    "model.generators = Set(initialize=range(len(generator_defs))) # Set defining generators\n",
    "model.PG_max = Param(model.generators,initialize={i:g_[0] for i, g_ in enumerate(generator_defs)}) # Max capacity of generators [MW]\n",
    "model.C = Param(model.generators,initialize={i:g_[1] for i, g_ in enumerate(generator_defs)}) # Offer price of generators [€/MW]\n",
    "model.p_G = Var(model.generators,within=NonNegativeReals) # Production of generators [MW]\n",
    "\n",
    "# Set up demand related objects\n",
    "model.demands = Set(initialize=range(len(demand_defs))) # Set defining demands\n",
    "model.L = Param(model.demands,initialize={i:d_[0] for i, d_ in enumerate(demand_defs)}) # Max load of demands [MW]\n",
    "model.U = Param(model.demands,initialize={i:d_[1] for i, d_ in enumerate(demand_defs)}) # Bid price of demands [€/MW] (U for Utility)\n",
    "model.p_D = Var(model.demands,within=NonNegativeReals) # Consumption of generators [MW]\n",
    "\n",
    "# Set up network related objects\n",
    "model.nodes = Set(initialize=range(len(capacity)))\n",
    "model.edges = Set(initialize=model.nodes*model.nodes)\n",
    "model.Fmax = Param(model.nodes,model.nodes,initialize={v_:capacity[v_] for v_ in model.edges})\n",
    "model.B = Param(model.nodes,model.nodes,initialize={v_:susceptance[v_] for v_ in model.edges})\n",
    "model.location_generators = Param(model.generators,initialize={i:model.nodes[g_[2]] for i, g_ in enumerate(generator_defs)})\n",
    "model.location_demands = Param(model.generators,initialize={i:model.nodes[g_[2]] for i, g_ in enumerate(generator_defs)})\n",
    "\n",
    "# Set up variables for network\n",
    "model.f = Var(model.nodes,model.nodes) # Power flow from bus to bus [MW]\n",
    "model.theta = Var(model.nodes) # Voltage angle at bus n [rad.]\n",
    "\n",
    "# Optimize the social welfare...\n",
    "def social_welfare(model):\n",
    "    total_utility = sum(model.U[d_]*model.p_D[d_] for d_ in model.demands)\n",
    "    total_cost = sum(model.C[g_]*model.p_G[g_] for g_ in model.generators)\n",
    "    return total_utility-total_cost\n",
    "\n",
    "model.SW = Objective(rule=social_welfare, sense=maximize)\n",
    "\n",
    "# ... given that generators has a maximum capacity\n",
    "def generator_constr_rule(model,i):\n",
    "    return (0,model.p_G[i],model.PG_max[i])\n",
    "\n",
    "model.generators_constraint = Constraint(model.generators,rule=generator_constr_rule)\n",
    "\n",
    "# ... given that consumers has as maximum demand\n",
    "def demand_constr_rule(model,i):\n",
    "    return (0,model.p_D[i],model.L[i])\n",
    "\n",
    "model.demands_constraint = Constraint(model.demands,rule=demand_constr_rule)\n",
    "\n",
    "# ... given that network topology is respected\n",
    "def power_flow_constr_rule_1(model,i,j):\n",
    "    return (-1*model.Fmax[i,j],model.f[i,j],model.Fmax[i,j])\n",
    "\n",
    "def power_flow_constr_rule_2(model,i,j):\n",
    "    return model.f[i,j]==model.B[i,j]*(model.theta[i]-model.theta[j])\n",
    "\n",
    "def power_flow_constr_rule_3(model,i,j):\n",
    "    return (-1*model.Fmax[i,j],model.B[i,j]*(model.theta[i]-model.theta[j]),model.Fmax[i,j])\n",
    "\n",
    "\n",
    "model.power_flow_constraint_1 = Constraint(model.nodes,model.nodes,rule=power_flow_constr_rule_1)\n",
    "model.power_flow_constraint_2 = Constraint(model.nodes,model.nodes,rule=power_flow_constr_rule_2)\n",
    "model.theta_zero_constraint = Constraint(expr=(model.theta[1],0))\n",
    "\n",
    "\n",
    "def power_balance_constr_rule(model,i):\n",
    "    all_gen_at_node = sum([model.p_G[g_] for g_ in model.location_generators if model.location_generators[g_]==i])\n",
    "    all_dem_at_node = sum([model.p_D[d_] for d_ in model.location_demands if model.location_demands[d_]==i])\n",
    "    all_phase_diffs_at_node = sum([model.f[v_] for v_ in model.edges if v_[0]==i])\n",
    "    return -1*all_gen_at_node+all_dem_at_node+all_phase_diffs_at_node==0\n",
    "    \n",
    "model.power_balance_at_nodes = Constraint(model.nodes,rule=power_balance_constr_rule)"
   ]
  },
  {
   "cell_type": "markdown",
   "metadata": {},
   "source": [
    "### Solve"
   ]
  },
  {
   "cell_type": "code",
   "execution_count": 4,
   "metadata": {},
   "outputs": [
    {
     "data": {
      "text/plain": [
       "{'Problem': [{'Name': 'unknown', 'Lower bound': -3550.0, 'Upper bound': -3550.0, 'Number of objectives': 1, 'Number of constraints': 40, 'Number of variables': 17, 'Number of nonzeros': 4, 'Sense': 'maximize'}], 'Solver': [{'Status': 'ok', 'User time': -1.0, 'System time': 0.0, 'Wallclock time': 0.0, 'Termination condition': 'optimal', 'Termination message': 'Model was solved to optimality (subject to tolerances), and an optimal solution is available.', 'Statistics': {'Branch and bound': {'Number of bounded subproblems': None, 'Number of created subproblems': None}, 'Black box': {'Number of iterations': 1}}, 'Error rc': 0, 'Time': 0.030220746994018555}], 'Solution': [OrderedDict([('number of solutions', 0), ('number of solutions displayed', 0)])]}"
      ]
     },
     "execution_count": 4,
     "metadata": {},
     "output_type": "execute_result"
    }
   ],
   "source": [
    "opt = SolverFactory('cbc')\n",
    "opt.solve(model)"
   ]
  },
  {
   "cell_type": "markdown",
   "metadata": {},
   "source": [
    "### Display solution"
   ]
  },
  {
   "cell_type": "code",
   "execution_count": 5,
   "metadata": {},
   "outputs": [
    {
     "name": "stdout",
     "output_type": "stream",
     "text": [
      "Generator 0 has an offer of 12€, max capacity of 100[MW] and produces 100.00[MW]\n",
      "Generator 1 has an offer of 20€, max capacity of 80[MW] and produces 50.00[MW]\n",
      "\n",
      "Consumer 0 has a bid of 40€, max consumption of 100[MW] and loads 100.00[MW]\n",
      "Consumer 1 has a bid of 35€, max consumption of 50[MW] and loads 50.00[MW]\n"
     ]
    }
   ],
   "source": [
    "for g_ in model.generators:\n",
    "    print('Generator {0} has an offer of {1}€, max capacity of {2}[MW] and produces {3:.2f}[MW]'.format(g_,model.C[g_],model.PG_max[g_],model.p_G[g_].value))\n",
    "    \n",
    "print('')\n",
    "\n",
    "for d_ in model.demands:\n",
    "    print('Consumer {0} has a bid of {1}€, max consumption of {2}[MW] and loads {3:.2f}[MW]'.format(d_,model.U[d_],model.L[d_],model.p_D[d_].value))"
   ]
  },
  {
   "cell_type": "code",
   "execution_count": 6,
   "metadata": {
    "scrolled": false
   },
   "outputs": [
    {
     "name": "stdout",
     "output_type": "stream",
     "text": [
      "Model unknown\n",
      "\n",
      "  Variables:\n",
      "    p_G : Size=2, Index=generators\n",
      "        Key : Lower : Value : Upper : Fixed : Stale : Domain\n",
      "          0 :     0 : 100.0 :  None : False : False : NonNegativeReals\n",
      "          1 :     0 :  50.0 :  None : False : False : NonNegativeReals\n",
      "    p_D : Size=2, Index=demands\n",
      "        Key : Lower : Value : Upper : Fixed : Stale : Domain\n",
      "          0 :     0 : 100.0 :  None : False : False : NonNegativeReals\n",
      "          1 :     0 :  50.0 :  None : False : False : NonNegativeReals\n",
      "    f : Size=9, Index=f_index\n",
      "        Key    : Lower : Value : Upper : Fixed : Stale : Domain\n",
      "        (0, 0) :  None :   0.0 :  None : False : False :  Reals\n",
      "        (0, 1) :  None :   0.0 :  None : False : False :  Reals\n",
      "        (0, 2) :  None :   0.0 :  None : False : False :  Reals\n",
      "        (1, 0) :  None :   0.0 :  None : False : False :  Reals\n",
      "        (1, 1) :  None :   0.0 :  None : False : False :  Reals\n",
      "        (1, 2) :  None :   0.0 :  None : False : False :  Reals\n",
      "        (2, 0) :  None :   0.0 :  None : False : False :  Reals\n",
      "        (2, 1) :  None :   0.0 :  None : False : False :  Reals\n",
      "        (2, 2) :  None :   0.0 :  None : False : False :  Reals\n",
      "    theta : Size=3, Index=nodes\n",
      "        Key : Lower : Value : Upper : Fixed : Stale : Domain\n",
      "          0 :  None :  -0.0 :  None : False : False :  Reals\n",
      "          1 :  None :   0.0 :  None : False : False :  Reals\n",
      "          2 :  None :   0.0 :  None : False : False :  Reals\n",
      "\n",
      "  Objectives:\n",
      "    SW : Size=1, Index=None, Active=True\n",
      "        Key  : Active : Value\n",
      "        None :   True : 3550.0\n",
      "\n",
      "  Constraints:\n",
      "    generators_constraint : Size=2\n",
      "        Key : Lower : Body  : Upper\n",
      "          0 :   0.0 : 100.0 : 100.0\n",
      "          1 :   0.0 :  50.0 :  80.0\n",
      "    demands_constraint : Size=2\n",
      "        Key : Lower : Body  : Upper\n",
      "          0 :   0.0 : 100.0 : 100.0\n",
      "          1 :   0.0 :  50.0 :  50.0\n",
      "    power_flow_constraint_1 : Size=9\n",
      "        Key    : Lower  : Body : Upper\n",
      "        (0, 0) :    0.0 :  0.0 :   0.0\n",
      "        (0, 1) : -100.0 :  0.0 : 100.0\n",
      "        (0, 2) : -100.0 :  0.0 : 100.0\n",
      "        (1, 0) : -100.0 :  0.0 : 100.0\n",
      "        (1, 1) :    0.0 :  0.0 :   0.0\n",
      "        (1, 2) : -100.0 :  0.0 : 100.0\n",
      "        (2, 0) : -100.0 :  0.0 : 100.0\n",
      "        (2, 1) : -100.0 :  0.0 : 100.0\n",
      "        (2, 2) :    0.0 :  0.0 :   0.0\n",
      "    power_flow_constraint_2 : Size=9\n",
      "        Key    : Lower : Body : Upper\n",
      "        (0, 0) :   0.0 :  0.0 :   0.0\n",
      "        (0, 1) :   0.0 :  0.0 :   0.0\n",
      "        (0, 2) :   0.0 :  0.0 :   0.0\n",
      "        (1, 0) :   0.0 :  0.0 :   0.0\n",
      "        (1, 1) :   0.0 :  0.0 :   0.0\n",
      "        (1, 2) :   0.0 :  0.0 :   0.0\n",
      "        (2, 0) :   0.0 :  0.0 :   0.0\n",
      "        (2, 1) :   0.0 :  0.0 :   0.0\n",
      "        (2, 2) :   0.0 :  0.0 :   0.0\n",
      "    theta_zero_constraint : Size=1\n",
      "        Key  : Lower : Body : Upper\n",
      "        None :   0.0 :  0.0 :   0.0\n",
      "    power_balance_at_nodes : Size=3\n",
      "        Key : Lower : Body : Upper\n",
      "          0 :   0.0 :  0.0 :   0.0\n",
      "          1 :   0.0 :  0.0 :   0.0\n",
      "          2 :   0.0 :  0.0 :   0.0\n"
     ]
    }
   ],
   "source": [
    "model.display()"
   ]
  }
 ],
 "metadata": {
  "kernelspec": {
   "display_name": "Python 3",
   "language": "python",
   "name": "python3"
  },
  "language_info": {
   "codemirror_mode": {
    "name": "ipython",
    "version": 3
   },
   "file_extension": ".py",
   "mimetype": "text/x-python",
   "name": "python",
   "nbconvert_exporter": "python",
   "pygments_lexer": "ipython3",
   "version": "3.8.5"
  }
 },
 "nbformat": 4,
 "nbformat_minor": 4
}
